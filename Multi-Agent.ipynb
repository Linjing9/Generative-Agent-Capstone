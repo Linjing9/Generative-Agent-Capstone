{
 "cells": [
  {
   "cell_type": "code",
   "execution_count": 89,
   "metadata": {
    "colab": {
     "base_uri": "https://localhost:8080/"
    },
    "id": "i2EkRdb23nHG",
    "outputId": "b1191512-0297-4b3f-a596-ace8c775961b"
   },
   "outputs": [],
   "source": [
    "! pip install -qU langchain openai"
   ]
  },
  {
   "cell_type": "code",
   "execution_count": 90,
   "metadata": {},
   "outputs": [
    {
     "name": "stdout",
     "output_type": "stream",
     "text": [
      "Requirement already satisfied: langchain in /Users/wangyuxuan/anaconda3/lib/python3.9/site-packages (0.0.348)\n",
      "Requirement already satisfied: openai in /Users/wangyuxuan/anaconda3/lib/python3.9/site-packages (1.3.8)\n",
      "Requirement already satisfied: PyYAML>=5.3 in /Users/wangyuxuan/anaconda3/lib/python3.9/site-packages (from langchain) (6.0)\n",
      "Requirement already satisfied: async-timeout<5.0.0,>=4.0.0 in /Users/wangyuxuan/anaconda3/lib/python3.9/site-packages (from langchain) (4.0.2)\n",
      "Requirement already satisfied: SQLAlchemy<3,>=1.4 in /Users/wangyuxuan/anaconda3/lib/python3.9/site-packages (from langchain) (1.4.39)\n",
      "Requirement already satisfied: pydantic<3,>=1 in /Users/wangyuxuan/anaconda3/lib/python3.9/site-packages (from langchain) (2.4.2)\n",
      "Requirement already satisfied: dataclasses-json<0.7,>=0.5.7 in /Users/wangyuxuan/anaconda3/lib/python3.9/site-packages (from langchain) (0.6.3)\n",
      "Requirement already satisfied: requests<3,>=2 in /Users/wangyuxuan/anaconda3/lib/python3.9/site-packages (from langchain) (2.28.1)\n",
      "Requirement already satisfied: langsmith<0.1.0,>=0.0.63 in /Users/wangyuxuan/anaconda3/lib/python3.9/site-packages (from langchain) (0.0.67)\n",
      "Requirement already satisfied: aiohttp<4.0.0,>=3.8.3 in /Users/wangyuxuan/anaconda3/lib/python3.9/site-packages (from langchain) (3.8.4)\n",
      "Requirement already satisfied: numpy<2,>=1 in /Users/wangyuxuan/anaconda3/lib/python3.9/site-packages (from langchain) (1.26.2)\n",
      "Requirement already satisfied: jsonpatch<2.0,>=1.33 in /Users/wangyuxuan/anaconda3/lib/python3.9/site-packages (from langchain) (1.33)\n",
      "Requirement already satisfied: langchain-core<0.1,>=0.0.12 in /Users/wangyuxuan/anaconda3/lib/python3.9/site-packages (from langchain) (0.0.12)\n",
      "Requirement already satisfied: tenacity<9.0.0,>=8.1.0 in /Users/wangyuxuan/anaconda3/lib/python3.9/site-packages (from langchain) (8.2.3)\n",
      "Requirement already satisfied: anyio<5,>=3.5.0 in /Users/wangyuxuan/anaconda3/lib/python3.9/site-packages (from openai) (3.7.1)\n",
      "Requirement already satisfied: sniffio in /Users/wangyuxuan/anaconda3/lib/python3.9/site-packages (from openai) (1.2.0)\n",
      "Requirement already satisfied: httpx<1,>=0.23.0 in /Users/wangyuxuan/anaconda3/lib/python3.9/site-packages (from openai) (0.25.1)\n",
      "Requirement already satisfied: typing-extensions<5,>=4.5 in /Users/wangyuxuan/anaconda3/lib/python3.9/site-packages (from openai) (4.8.0)\n",
      "Requirement already satisfied: distro<2,>=1.7.0 in /Users/wangyuxuan/anaconda3/lib/python3.9/site-packages (from openai) (1.8.0)\n",
      "Requirement already satisfied: tqdm>4 in /Users/wangyuxuan/anaconda3/lib/python3.9/site-packages (from openai) (4.64.1)\n",
      "Requirement already satisfied: frozenlist>=1.1.1 in /Users/wangyuxuan/anaconda3/lib/python3.9/site-packages (from aiohttp<4.0.0,>=3.8.3->langchain) (1.3.3)\n",
      "Requirement already satisfied: multidict<7.0,>=4.5 in /Users/wangyuxuan/anaconda3/lib/python3.9/site-packages (from aiohttp<4.0.0,>=3.8.3->langchain) (6.0.4)\n",
      "Requirement already satisfied: attrs>=17.3.0 in /Users/wangyuxuan/anaconda3/lib/python3.9/site-packages (from aiohttp<4.0.0,>=3.8.3->langchain) (21.4.0)\n",
      "Requirement already satisfied: charset-normalizer<4.0,>=2.0 in /Users/wangyuxuan/anaconda3/lib/python3.9/site-packages (from aiohttp<4.0.0,>=3.8.3->langchain) (2.0.4)\n",
      "Requirement already satisfied: yarl<2.0,>=1.0 in /Users/wangyuxuan/anaconda3/lib/python3.9/site-packages (from aiohttp<4.0.0,>=3.8.3->langchain) (1.9.2)\n",
      "Requirement already satisfied: aiosignal>=1.1.2 in /Users/wangyuxuan/anaconda3/lib/python3.9/site-packages (from aiohttp<4.0.0,>=3.8.3->langchain) (1.3.1)\n",
      "Requirement already satisfied: exceptiongroup in /Users/wangyuxuan/anaconda3/lib/python3.9/site-packages (from anyio<5,>=3.5.0->openai) (1.1.3)\n",
      "Requirement already satisfied: idna>=2.8 in /Users/wangyuxuan/anaconda3/lib/python3.9/site-packages (from anyio<5,>=3.5.0->openai) (3.3)\n",
      "Requirement already satisfied: marshmallow<4.0.0,>=3.18.0 in /Users/wangyuxuan/anaconda3/lib/python3.9/site-packages (from dataclasses-json<0.7,>=0.5.7->langchain) (3.20.1)\n",
      "Requirement already satisfied: typing-inspect<1,>=0.4.0 in /Users/wangyuxuan/anaconda3/lib/python3.9/site-packages (from dataclasses-json<0.7,>=0.5.7->langchain) (0.9.0)\n",
      "Requirement already satisfied: httpcore in /Users/wangyuxuan/anaconda3/lib/python3.9/site-packages (from httpx<1,>=0.23.0->openai) (1.0.1)\n",
      "Requirement already satisfied: certifi in /Users/wangyuxuan/anaconda3/lib/python3.9/site-packages (from httpx<1,>=0.23.0->openai) (2022.9.24)\n",
      "Requirement already satisfied: jsonpointer>=1.9 in /Users/wangyuxuan/anaconda3/lib/python3.9/site-packages (from jsonpatch<2.0,>=1.33->langchain) (2.4)\n",
      "Requirement already satisfied: packaging<24.0,>=23.2 in /Users/wangyuxuan/anaconda3/lib/python3.9/site-packages (from langchain-core<0.1,>=0.0.12->langchain) (23.2)\n",
      "Requirement already satisfied: pydantic-core==2.10.1 in /Users/wangyuxuan/anaconda3/lib/python3.9/site-packages (from pydantic<3,>=1->langchain) (2.10.1)\n",
      "Requirement already satisfied: annotated-types>=0.4.0 in /Users/wangyuxuan/anaconda3/lib/python3.9/site-packages (from pydantic<3,>=1->langchain) (0.6.0)\n",
      "Requirement already satisfied: urllib3<1.27,>=1.21.1 in /Users/wangyuxuan/anaconda3/lib/python3.9/site-packages (from requests<3,>=2->langchain) (1.26.11)\n",
      "Requirement already satisfied: greenlet!=0.4.17 in /Users/wangyuxuan/anaconda3/lib/python3.9/site-packages (from SQLAlchemy<3,>=1.4->langchain) (1.1.1)\n",
      "Requirement already satisfied: mypy-extensions>=0.3.0 in /Users/wangyuxuan/anaconda3/lib/python3.9/site-packages (from typing-inspect<1,>=0.4.0->dataclasses-json<0.7,>=0.5.7->langchain) (0.4.3)\n",
      "Requirement already satisfied: h11<0.15,>=0.13 in /Users/wangyuxuan/anaconda3/lib/python3.9/site-packages (from httpcore->httpx<1,>=0.23.0->openai) (0.14.0)\n",
      "Note: you may need to restart the kernel to use updated packages.\n"
     ]
    }
   ],
   "source": [
    "pip install langchain openai"
   ]
  },
  {
   "cell_type": "code",
   "execution_count": 91,
   "metadata": {
    "id": "07T4j3qR3cGa"
   },
   "outputs": [],
   "source": [
    "from langchain import PromptTemplate\n",
    "import re\n",
    "import tenacity\n",
    "from typing import List, Dict, Callable\n",
    "from langchain.chat_models import ChatOpenAI\n",
    "from langchain.output_parsers import RegexParser\n",
    "from langchain.schema import (\n",
    "    AIMessage,\n",
    "    HumanMessage,\n",
    "    SystemMessage,\n",
    "    BaseMessage,\n",
    ")"
   ]
  },
  {
   "cell_type": "code",
   "execution_count": 92,
   "metadata": {
    "id": "N-tdF6h_3itG"
   },
   "outputs": [],
   "source": [
    "class DialogueAgent:\n",
    "    def __init__(\n",
    "        self,\n",
    "        name: str,\n",
    "        system_message: SystemMessage,\n",
    "        model: ChatOpenAI,\n",
    "    ) -> None:\n",
    "        self.name = name\n",
    "        self.system_message = system_message\n",
    "        self.model = model\n",
    "        self.prefix = f\"{self.name}: \"\n",
    "        self.reset()\n",
    "\n",
    "    def reset(self):\n",
    "        self.message_history = [\"Here is the conversation so far.\"]\n",
    "\n",
    "    def send(self) -> str:\n",
    "        \"\"\"\n",
    "        Applies the chatmodel to the message history\n",
    "        and returns the message string\n",
    "        \"\"\"\n",
    "        message = self.model(\n",
    "            [\n",
    "                self.system_message,\n",
    "                HumanMessage(content=\"\\n\".join(self.message_history + [self.prefix])),\n",
    "            ]\n",
    "        )\n",
    "        return message.content\n",
    "\n",
    "    def receive(self, name: str, message: str) -> None:\n",
    "        \"\"\"\n",
    "        Concatenates {message} spoken by {name} into message history\n",
    "        \"\"\"\n",
    "        self.message_history.append(f\"{name}: {message}\")\n",
    "\n",
    "\n",
    "class DialogueSimulator:\n",
    "    def __init__(\n",
    "        self,\n",
    "        agents: List[DialogueAgent],\n",
    "        selection_function: Callable[[int, List[DialogueAgent]], int],\n",
    "    ) -> None:\n",
    "        self.agents = agents\n",
    "        self._step = 0\n",
    "        self.select_next_speaker = selection_function\n",
    "\n",
    "    def reset(self):\n",
    "        for agent in self.agents:\n",
    "            agent.reset()\n",
    "\n",
    "    def inject(self, name: str, message: str):\n",
    "        \"\"\"\n",
    "        Initiates the conversation with a {message} from {name}\n",
    "        \"\"\"\n",
    "        for agent in self.agents:\n",
    "            agent.receive(name, message)\n",
    "\n",
    "        # increment time\n",
    "        self._step += 1\n",
    "\n",
    "    def step(self) -> tuple[str, str]:\n",
    "        # 1. choose the next speaker\n",
    "        speaker_idx = self.select_next_speaker(self._step, self.agents)\n",
    "        speaker = self.agents[speaker_idx]\n",
    "\n",
    "        # 2. next speaker sends message\n",
    "        message = speaker.send()\n",
    "\n",
    "        # 3. everyone receives message\n",
    "        for receiver in self.agents:\n",
    "            receiver.receive(speaker.name, message)\n",
    "\n",
    "        # 4. increment time\n",
    "        self._step += 1\n",
    "\n",
    "        return speaker.name, message"
   ]
  },
  {
   "cell_type": "code",
   "execution_count": 93,
   "metadata": {
    "id": "JPpa-OPR3xpW"
   },
   "outputs": [],
   "source": [
    "class BiddingDialogueAgent(DialogueAgent):\n",
    "    def __init__(\n",
    "        self,\n",
    "        name,\n",
    "        system_message: SystemMessage,\n",
    "        bidding_template: PromptTemplate,\n",
    "        model: ChatOpenAI,\n",
    "    ) -> None:\n",
    "        super().__init__(name, system_message, model)\n",
    "        self.bidding_template = bidding_template\n",
    "\n",
    "    def bid(self) -> str:\n",
    "        \"\"\"\n",
    "        Asks the chat model to output a bid to speak\n",
    "        \"\"\"\n",
    "        prompt = PromptTemplate(\n",
    "            input_variables=[\"message_history\", \"recent_message\"],\n",
    "            template=self.bidding_template,\n",
    "        ).format(\n",
    "            message_history=\"\\n\".join(self.message_history),\n",
    "            recent_message=self.message_history[-1],\n",
    "        )\n",
    "        bid_string = self.model([SystemMessage(content=prompt)]).content\n",
    "        return bid_string"
   ]
  },
  {
   "cell_type": "code",
   "execution_count": 94,
   "metadata": {
    "id": "Lc81OFl43yjR"
   },
   "outputs": [],
   "source": [
    "character_names = [\"Monica Geller\", \"Rachel Green\", \"Ross Geller\"]\n",
    "topic = \"Go to Hospital to visit Phoebe\"\n",
    "word_limit = 3"
   ]
  },
  {
   "cell_type": "code",
   "execution_count": 95,
   "metadata": {
    "colab": {
     "base_uri": "https://localhost:8080/"
    },
    "id": "zneGAu59M9aW",
    "outputId": "be76d168-346c-4895-dc1b-d72427bf627b"
   },
   "outputs": [
    {
     "name": "stdout",
     "output_type": "stream",
     "text": [
      "openAI API keys:········\n"
     ]
    }
   ],
   "source": [
    "from getpass import getpass\n",
    "OPENAI_API_KEY=getpass(\"openAI API keys:\")"
   ]
  },
  {
   "cell_type": "code",
   "execution_count": 105,
   "metadata": {
    "colab": {
     "base_uri": "https://localhost:8080/"
    },
    "id": "usmybVEb32Am",
    "outputId": "81aa12f3-2eee-4771-b1f9-637d366e7780"
   },
   "outputs": [
    {
     "data": {
      "text/plain": [
       "'\\nfor (\\n    character_name,\\n    character_description,\\n    character_header,\\n    character_system_message,\\n) in zip(\\n    character_names,\\n    character_descriptions,\\n    character_headers,\\n    character_system_messages,\\n):\\n    print(f\"\\n\\n{character_name} Description:\")\\n    print(f\"\\n{character_description}\")\\n    print(f\"\\n{character_header}\")\\n    print(f\"\\n{character_system_message.content}\")\\n'"
      ]
     },
     "execution_count": 105,
     "metadata": {},
     "output_type": "execute_result"
    }
   ],
   "source": [
    "game_description = f\"\"\"Here is the topic for the thanksgiving dinner preparation: {topic}.\n",
    "The persons involved are: {', '.join(character_names)}.\"\"\"\n",
    "\n",
    "player_descriptor_system_message = SystemMessage(\n",
    "    content=\"You can add detail to the description of each person involved.\"\n",
    ")\n",
    "\n",
    "\n",
    "def generate_character_description(character_name):\n",
    "    if character_name == 'Rachel Green':\n",
    "        character_description = f\"\"\"Rachel Green is a fashionable and initially spoiled young woman who ran away from her wedding to seek independence. At the beginning, she worked at Central Perk which is a coffeehouse.  She later pursues a successful career in the fashion industry. Rachel is caring and loyal to all her friends.\n",
    "Rachel’s roommate is Monica who is her best friend.\n",
    "Rachel knew Ross had a crush on her in high school, but she didn’t turn to that feeling until recently.\n",
    "Rachel does not know Chandler well but they had already met several years ago at Monica’s parent’s house.\n",
    "Rachel did not know Phoebe before she moved in with Monica, but they quickly became close friends. Rachel thinks Phoebe’s quirkiness is adorable despite that other people often make fun of it.\n",
    "        \"\"\"\n",
    "    elif character_name == \"Monica Geller\":\n",
    "        character_description = f\"\"\"Monica Geller works as a head chef. She was overweight when she was in high school and it affected her very much. It is part of the reason for her being a perfectionist, especially when it comes to cleanliness and order. She is emotionally strong and she always wants to get the best results even if it means through force. She loves being the hostess and loves taking care of her friends.\n",
    "Monica is in a romantic relationship with Chandler now.\n",
    "Monica lived with Phoebe before Rachel moved in. They remained best friends after Phoebe moved out.\n",
    "Monica is Ross’s sister.\n",
    "Monica has been friends with Rachel since they were younger.\n",
    "Monica knows Joey and they soon become friends.\n",
    "        \"\"\"\n",
    "    elif character_name == \"Ross Geller\":\n",
    "        character_description = f\"\"\"Ross Geller is a paleontologist. As a scientist and professor, he thrives on accuracy, precision and being precise. He is a curious person, and is confident about his academic success.\n",
    "Ross is Monica’s older brother.\n",
    "Ross has an enduring love for Rachel.He had a crush on her when they met in high school.\n",
    "Ross recently argued with Phoebe about evolution theory, and he goes to extreme lengths to prove his way is right.\n",
    "Ross met Chandler in college and they remained best friends after college ended. Recently he finds out Monica and Chandler are in a relationship,and he is very supportive of their relationship.\n",
    "Ross knows Joey through Chandler and they become good friends.\n",
    "        \"\"\"\n",
    "    return character_description\n",
    "'''\n",
    "def generate_character_description(character_name):\n",
    "    character_specifier_prompt = [\n",
    "        player_descriptor_system_message,\n",
    "        HumanMessage(\n",
    "            content=f\"\"\"{game_description}\n",
    "            Please reply with a creative description of the individual, {character_name}, in {word_limit} words or less, that emphasizes their personalities.\n",
    "            Speak directly to {character_name}.\n",
    "            Do not add anything else.\"\"\"\n",
    "        ),\n",
    "    ]\n",
    "    character_description = ChatOpenAI(openai_api_key=OPENAI_API_KEY,temperature=1.0)(\n",
    "        character_specifier_prompt\n",
    "    ).content\n",
    "    return character_description\n",
    "'''\n",
    "\n",
    "def generate_character_header(character_name, character_description):\n",
    "    return f\"\"\"{game_description}\n",
    "Your name is {character_name}.\n",
    "You are one of the persons that is going to attend the thanksgiving diner party.\n",
    "Your description is as follows: {character_description}\n",
    "The topic you are discussing with others is: {topic}.\n",
    "Your goal is to be as creative as possible, and contributes to the preparation about this topic,\n",
    "\"\"\"\n",
    "\n",
    "\n",
    "def generate_character_system_message(character_name, character_header):\n",
    "    return SystemMessage(\n",
    "        content=(\n",
    "            f\"\"\"{character_header}\n",
    "You will speak in the style of {character_name}, and exaggerate their personality.\n",
    "You will come up with creative ideas related to {topic}.\n",
    "Do not say the same things over and over again.\n",
    "Speak in the first person from the perspective of {character_name}\n",
    "For describing your own body movements, wrap your description in '*'.\n",
    "Do not change roles!\n",
    "Do not speak from the perspective of anyone else.\n",
    "Speak only from the perspective of {character_name}.\n",
    "Stop speaking the moment you finish speaking from your perspective.\n",
    "KEEP YOUR RESPONSES BRIEF!\n",
    "Never forget to keep your response within {word_limit} sentences!\n",
    "Keep your response within two paragraphs.\n",
    "Do not add anything else.\n",
    "    \"\"\"\n",
    "        )\n",
    "    )\n",
    "\n",
    "\n",
    "character_descriptions = [\n",
    "    generate_character_description(character_name) for character_name in character_names\n",
    "]\n",
    "character_headers = [\n",
    "    generate_character_header(character_name, character_description)\n",
    "    for character_name, character_description in zip(\n",
    "        character_names, character_descriptions\n",
    "    )\n",
    "]\n",
    "character_system_messages = [\n",
    "    generate_character_system_message(character_name, character_headers)\n",
    "    for character_name, character_headers in zip(character_names, character_headers)\n",
    "]\n",
    "\n",
    "\n",
    "'''\n",
    "for (\n",
    "    character_name,\n",
    "    character_description,\n",
    "    character_header,\n",
    "    character_system_message,\n",
    ") in zip(\n",
    "    character_names,\n",
    "    character_descriptions,\n",
    "    character_headers,\n",
    "    character_system_messages,\n",
    "):\n",
    "    print(f\"\\n\\n{character_name} Description:\")\n",
    "    print(f\"\\n{character_description}\")\n",
    "    print(f\"\\n{character_header}\")\n",
    "    print(f\"\\n{character_system_message.content}\")\n",
    "'''"
   ]
  },
  {
   "cell_type": "code",
   "execution_count": 106,
   "metadata": {
    "id": "q9-geoz_4AVi"
   },
   "outputs": [],
   "source": [
    "class BidOutputParser(RegexParser):\n",
    "    def get_format_instructions(self) -> str:\n",
    "        return \"Your response should be an integer delimited by angled brackets, like this: <int>.\"\n",
    "\n",
    "\n",
    "bid_parser = BidOutputParser(\n",
    "    regex=r\"<(\\d+)>\", output_keys=[\"bid\"], default_output_key=\"bid\"\n",
    ")"
   ]
  },
  {
   "cell_type": "code",
   "execution_count": 107,
   "metadata": {
    "colab": {
     "base_uri": "https://localhost:8080/"
    },
    "id": "5OTo4WB2PicD",
    "outputId": "17730ff5-2286-449e-97e2-e99be925a0c5"
   },
   "outputs": [
    {
     "data": {
      "text/plain": [
       "'\\ncharacter_bidding_templates = [\\n    generate_character_bidding_template(character_header)\\n    for character_header in character_headers\\n]\\n\\nfor character_name, bidding_template in zip(\\n    character_names, character_bidding_templates\\n):\\n    print(f\"{character_name} Bidding Template:\")\\n    print(bidding_template)\\n'"
      ]
     },
     "execution_count": 107,
     "metadata": {},
     "output_type": "execute_result"
    }
   ],
   "source": [
    "def generate_character_bidding_template(character_header):\n",
    "    bidding_template = f\"\"\"{character_header}\n",
    "\n",
    "\n",
    "{{message_history}}\n",
    "On the scale of 1 to 10, where 1 is tasks you think you are really poor at and 10 is tasks you are supper good at,\n",
    "rate the likelyhood of you managing to do the tasks in the following message\n",
    "{{recent_message}}\n",
    "\n",
    "\n",
    "{bid_parser.get_format_instructions()}\n",
    "Do nothing else.\n",
    "    \"\"\"\n",
    "    return bidding_template\n",
    "\n",
    "\n",
    "'''\n",
    "character_bidding_templates = [\n",
    "    generate_character_bidding_template(character_header)\n",
    "    for character_header in character_headers\n",
    "]\n",
    "\n",
    "for character_name, bidding_template in zip(\n",
    "    character_names, character_bidding_templates\n",
    "):\n",
    "    print(f\"{character_name} Bidding Template:\")\n",
    "    print(bidding_template)\n",
    "'''"
   ]
  },
  {
   "cell_type": "code",
   "execution_count": 108,
   "metadata": {
    "colab": {
     "base_uri": "https://localhost:8080/"
    },
    "id": "HnM8mB2MQO8O",
    "outputId": "51985ab4-9d9f-4ccc-a92d-47f72605f5d4"
   },
   "outputs": [
    {
     "name": "stdout",
     "output_type": "stream",
     "text": [
      "Original topic:\n",
      "Go to Hospital to visit Phoebe\n",
      "\n",
      "Detailed topic:\n",
      "Go to Hospital to visit Phoebe\n",
      "\n"
     ]
    }
   ],
   "source": [
    "topic_specifier_prompt = [\n",
    "    SystemMessage(content=\"You can make a task more specific.\"),\n",
    "    HumanMessage(\n",
    "        content=f\"\"\"{game_description}\n",
    "\n",
    "        You are the Discussion moderator.\n",
    "        Please make the dinner preparation topic more specific.\n",
    "        Frame the dinner preparation topic as a problem to be solved.\n",
    "        Be creative and imaginative.\n",
    "        Please reply with the specified topic in {word_limit} words or less.\n",
    "        Do keep your responses brief!\n",
    "        Speak directly to the persons who are initiate the party: {*character_names,}.\n",
    "        Do not add anything else.\"\"\"\n",
    "    ),\n",
    "]\n",
    "\n",
    "specified_topic = topic\n",
    "# specified_topic = ChatOpenAI(openai_api_key=OPENAI_API_KEY,temperature=1.0)(topic_specifier_prompt).content\n",
    "\n",
    "print(f\"Original topic:\\n{topic}\\n\")\n",
    "print(f\"Detailed topic:\\n{specified_topic}\\n\")"
   ]
  },
  {
   "cell_type": "markdown",
   "metadata": {
    "id": "LXbVZI3MRH1d"
   },
   "source": [
    "Speaker selection function"
   ]
  },
  {
   "cell_type": "code",
   "execution_count": 109,
   "metadata": {
    "id": "tW_fedRZRNQp"
   },
   "outputs": [],
   "source": [
    "@tenacity.retry(\n",
    "    stop=tenacity.stop_after_attempt(2),\n",
    "    wait=tenacity.wait_none(),  # No waiting time between retries\n",
    "    retry=tenacity.retry_if_exception_type(ValueError),\n",
    "    before_sleep=lambda retry_state: print(\n",
    "        f\"ValueError occurred: {retry_state.outcome.exception()}, retrying...\"\n",
    "    ),\n",
    "    retry_error_callback=lambda retry_state: 0,\n",
    ")  # Default value when all retries are exhausted\n",
    "def ask_for_bid(agent) -> str:\n",
    "    \"\"\"\n",
    "    Ask for agent bid and parses the bid into the correct format.\n",
    "    \"\"\"\n",
    "    bid_string = agent.bid()\n",
    "    bid = int(bid_parser.parse(bid_string)[\"bid\"])\n",
    "    return bid\n",
    "\n"
   ]
  },
  {
   "cell_type": "code",
   "execution_count": 110,
   "metadata": {
    "id": "4DSKw5T0Si1y"
   },
   "outputs": [],
   "source": [
    "import numpy as np\n",
    "\n",
    "\n",
    "def select_next_speaker(step: int, agents: List[DialogueAgent]) -> int:\n",
    "    bids = []\n",
    "    for agent in agents:\n",
    "        bid = ask_for_bid(agent)\n",
    "        bids.append(bid)\n",
    "\n",
    "    # randomly select among multiple agents with the same bid\n",
    "    max_value = np.max(bids)\n",
    "    max_indices = np.where(bids == max_value)[0]\n",
    "    idx = np.random.choice(max_indices)\n",
    "\n",
    "    print(\"Bids:\")\n",
    "    for i, (bid, agent) in enumerate(zip(bids, agents)):\n",
    "        print(f\"\\t{agent.name} bid: {bid}\")\n",
    "        if i == idx:\n",
    "            selected_name = agent.name\n",
    "    print(f\"Selected: {selected_name}\")\n",
    "    print(\"\\n\")\n",
    "    return idx"
   ]
  },
  {
   "cell_type": "markdown",
   "metadata": {
    "id": "7cFt82G8Tz0b"
   },
   "source": [
    "Main Loop"
   ]
  },
  {
   "cell_type": "code",
   "execution_count": 111,
   "metadata": {
    "id": "JLxnyTHkT1Ek"
   },
   "outputs": [],
   "source": [
    "characters = []\n",
    "for character_name, character_system_message, bidding_template in zip(\n",
    "    character_names, character_system_messages, character_bidding_templates\n",
    "):\n",
    "    characters.append(\n",
    "        BiddingDialogueAgent(\n",
    "            name=character_name,\n",
    "            system_message=character_system_message,\n",
    "            model=ChatOpenAI(openai_api_key=OPENAI_API_KEY,temperature=0.2),\n",
    "            bidding_template=bidding_template,\n",
    "        )\n",
    "    )"
   ]
  },
  {
   "cell_type": "code",
   "execution_count": 86,
   "metadata": {
    "colab": {
     "base_uri": "https://localhost:8080/"
    },
    "id": "aa3JGvl2dKXS",
    "outputId": "73d347a1-60b1-4b91-a947-ea1bbc1f0021"
   },
   "outputs": [
    {
     "name": "stdout",
     "output_type": "stream",
     "text": [
      "Requirement already satisfied: gradio in /Users/wangyuxuan/anaconda3/lib/python3.9/site-packages (4.1.1)\n",
      "Requirement already satisfied: altair<6.0,>=4.2.0 in /Users/wangyuxuan/anaconda3/lib/python3.9/site-packages (from gradio) (5.1.2)\n",
      "Requirement already satisfied: pandas<3.0,>=1.0 in /Users/wangyuxuan/anaconda3/lib/python3.9/site-packages (from gradio) (1.4.4)\n",
      "Requirement already satisfied: matplotlib~=3.0 in /Users/wangyuxuan/anaconda3/lib/python3.9/site-packages (from gradio) (3.5.2)\n",
      "Requirement already satisfied: uvicorn>=0.14.0 in /Users/wangyuxuan/anaconda3/lib/python3.9/site-packages (from gradio) (0.24.0.post1)\n",
      "Requirement already satisfied: fastapi in /Users/wangyuxuan/anaconda3/lib/python3.9/site-packages (from gradio) (0.104.1)\n",
      "Requirement already satisfied: pydantic>=2.0 in /Users/wangyuxuan/anaconda3/lib/python3.9/site-packages (from gradio) (2.4.2)\n",
      "Requirement already satisfied: numpy~=1.0 in /Users/wangyuxuan/anaconda3/lib/python3.9/site-packages (from gradio) (1.26.2)\n",
      "Requirement already satisfied: pillow<11.0,>=8.0 in /Users/wangyuxuan/anaconda3/lib/python3.9/site-packages (from gradio) (9.2.0)\n",
      "Requirement already satisfied: tomlkit==0.12.0 in /Users/wangyuxuan/anaconda3/lib/python3.9/site-packages (from gradio) (0.12.0)\n",
      "Requirement already satisfied: semantic-version~=2.0 in /Users/wangyuxuan/anaconda3/lib/python3.9/site-packages (from gradio) (2.10.0)\n",
      "Requirement already satisfied: websockets<12.0,>=10.0 in /Users/wangyuxuan/anaconda3/lib/python3.9/site-packages (from gradio) (11.0.3)\n",
      "Requirement already satisfied: orjson~=3.0 in /Users/wangyuxuan/anaconda3/lib/python3.9/site-packages (from gradio) (3.9.10)\n",
      "Requirement already satisfied: python-multipart in /Users/wangyuxuan/anaconda3/lib/python3.9/site-packages (from gradio) (0.0.6)\n",
      "Requirement already satisfied: typer[all]<1.0,>=0.9 in /Users/wangyuxuan/anaconda3/lib/python3.9/site-packages (from gradio) (0.9.0)\n",
      "Requirement already satisfied: gradio-client==0.7.0 in /Users/wangyuxuan/anaconda3/lib/python3.9/site-packages (from gradio) (0.7.0)\n",
      "Requirement already satisfied: requests~=2.0 in /Users/wangyuxuan/anaconda3/lib/python3.9/site-packages (from gradio) (2.28.1)\n",
      "Requirement already satisfied: markupsafe~=2.0 in /Users/wangyuxuan/anaconda3/lib/python3.9/site-packages (from gradio) (2.0.1)\n",
      "Requirement already satisfied: aiofiles<24.0,>=22.0 in /Users/wangyuxuan/anaconda3/lib/python3.9/site-packages (from gradio) (23.2.1)\n",
      "Requirement already satisfied: httpx in /Users/wangyuxuan/anaconda3/lib/python3.9/site-packages (from gradio) (0.25.1)\n",
      "Requirement already satisfied: packaging in /Users/wangyuxuan/anaconda3/lib/python3.9/site-packages (from gradio) (23.2)\n",
      "Requirement already satisfied: pyyaml<7.0,>=5.0 in /Users/wangyuxuan/anaconda3/lib/python3.9/site-packages (from gradio) (6.0)\n",
      "Requirement already satisfied: huggingface-hub>=0.14.0 in /Users/wangyuxuan/anaconda3/lib/python3.9/site-packages (from gradio) (0.18.0)\n",
      "Requirement already satisfied: typing-extensions~=4.0 in /Users/wangyuxuan/anaconda3/lib/python3.9/site-packages (from gradio) (4.8.0)\n",
      "Requirement already satisfied: jinja2<4.0 in /Users/wangyuxuan/anaconda3/lib/python3.9/site-packages (from gradio) (2.11.3)\n",
      "Requirement already satisfied: ffmpy in /Users/wangyuxuan/anaconda3/lib/python3.9/site-packages (from gradio) (0.3.1)\n",
      "Requirement already satisfied: importlib-resources<7.0,>=1.3 in /Users/wangyuxuan/anaconda3/lib/python3.9/site-packages (from gradio) (6.1.1)\n",
      "Requirement already satisfied: pydub in /Users/wangyuxuan/anaconda3/lib/python3.9/site-packages (from gradio) (0.25.1)\n",
      "Requirement already satisfied: fsspec in /Users/wangyuxuan/anaconda3/lib/python3.9/site-packages (from gradio-client==0.7.0->gradio) (2023.10.0)\n",
      "Requirement already satisfied: jsonschema>=3.0 in /Users/wangyuxuan/anaconda3/lib/python3.9/site-packages (from altair<6.0,>=4.2.0->gradio) (4.16.0)\n",
      "Requirement already satisfied: toolz in /Users/wangyuxuan/anaconda3/lib/python3.9/site-packages (from altair<6.0,>=4.2.0->gradio) (0.11.2)\n",
      "Requirement already satisfied: tqdm>=4.42.1 in /Users/wangyuxuan/anaconda3/lib/python3.9/site-packages (from huggingface-hub>=0.14.0->gradio) (4.64.1)\n",
      "Requirement already satisfied: filelock in /Users/wangyuxuan/anaconda3/lib/python3.9/site-packages (from huggingface-hub>=0.14.0->gradio) (3.6.0)\n",
      "Requirement already satisfied: zipp>=3.1.0 in /Users/wangyuxuan/anaconda3/lib/python3.9/site-packages (from importlib-resources<7.0,>=1.3->gradio) (3.8.0)\n",
      "Requirement already satisfied: python-dateutil>=2.7 in /Users/wangyuxuan/anaconda3/lib/python3.9/site-packages (from matplotlib~=3.0->gradio) (2.8.2)\n",
      "Requirement already satisfied: cycler>=0.10 in /Users/wangyuxuan/anaconda3/lib/python3.9/site-packages (from matplotlib~=3.0->gradio) (0.11.0)\n",
      "Requirement already satisfied: kiwisolver>=1.0.1 in /Users/wangyuxuan/anaconda3/lib/python3.9/site-packages (from matplotlib~=3.0->gradio) (1.4.2)\n",
      "Requirement already satisfied: pyparsing>=2.2.1 in /Users/wangyuxuan/anaconda3/lib/python3.9/site-packages (from matplotlib~=3.0->gradio) (3.0.9)\n",
      "Requirement already satisfied: fonttools>=4.22.0 in /Users/wangyuxuan/anaconda3/lib/python3.9/site-packages (from matplotlib~=3.0->gradio) (4.25.0)\n",
      "Requirement already satisfied: pytz>=2020.1 in /Users/wangyuxuan/anaconda3/lib/python3.9/site-packages (from pandas<3.0,>=1.0->gradio) (2022.1)\n",
      "Requirement already satisfied: pydantic-core==2.10.1 in /Users/wangyuxuan/anaconda3/lib/python3.9/site-packages (from pydantic>=2.0->gradio) (2.10.1)\n",
      "Requirement already satisfied: annotated-types>=0.4.0 in /Users/wangyuxuan/anaconda3/lib/python3.9/site-packages (from pydantic>=2.0->gradio) (0.6.0)\n",
      "Requirement already satisfied: urllib3<1.27,>=1.21.1 in /Users/wangyuxuan/anaconda3/lib/python3.9/site-packages (from requests~=2.0->gradio) (1.26.11)\n",
      "Requirement already satisfied: idna<4,>=2.5 in /Users/wangyuxuan/anaconda3/lib/python3.9/site-packages (from requests~=2.0->gradio) (3.3)\n",
      "Requirement already satisfied: certifi>=2017.4.17 in /Users/wangyuxuan/anaconda3/lib/python3.9/site-packages (from requests~=2.0->gradio) (2022.9.24)\n",
      "Requirement already satisfied: charset-normalizer<3,>=2 in /Users/wangyuxuan/anaconda3/lib/python3.9/site-packages (from requests~=2.0->gradio) (2.0.4)\n",
      "Requirement already satisfied: click<9.0.0,>=7.1.1 in /Users/wangyuxuan/anaconda3/lib/python3.9/site-packages (from typer[all]<1.0,>=0.9->gradio) (8.0.4)\n",
      "Requirement already satisfied: shellingham<2.0.0,>=1.3.0 in /Users/wangyuxuan/anaconda3/lib/python3.9/site-packages (from typer[all]<1.0,>=0.9->gradio) (1.5.4)\n",
      "Requirement already satisfied: rich<14.0.0,>=10.11.0 in /Users/wangyuxuan/anaconda3/lib/python3.9/site-packages (from typer[all]<1.0,>=0.9->gradio) (13.6.0)\n",
      "Requirement already satisfied: colorama<0.5.0,>=0.4.3 in /Users/wangyuxuan/anaconda3/lib/python3.9/site-packages (from typer[all]<1.0,>=0.9->gradio) (0.4.5)\n",
      "Requirement already satisfied: h11>=0.8 in /Users/wangyuxuan/anaconda3/lib/python3.9/site-packages (from uvicorn>=0.14.0->gradio) (0.14.0)\n",
      "Requirement already satisfied: anyio<4.0.0,>=3.7.1 in /Users/wangyuxuan/anaconda3/lib/python3.9/site-packages (from fastapi->gradio) (3.7.1)\n",
      "Requirement already satisfied: starlette<0.28.0,>=0.27.0 in /Users/wangyuxuan/anaconda3/lib/python3.9/site-packages (from fastapi->gradio) (0.27.0)\n",
      "Requirement already satisfied: sniffio in /Users/wangyuxuan/anaconda3/lib/python3.9/site-packages (from httpx->gradio) (1.2.0)\n",
      "Requirement already satisfied: httpcore in /Users/wangyuxuan/anaconda3/lib/python3.9/site-packages (from httpx->gradio) (1.0.1)\n",
      "Requirement already satisfied: exceptiongroup in /Users/wangyuxuan/anaconda3/lib/python3.9/site-packages (from anyio<4.0.0,>=3.7.1->fastapi->gradio) (1.1.3)\n",
      "Requirement already satisfied: attrs>=17.4.0 in /Users/wangyuxuan/anaconda3/lib/python3.9/site-packages (from jsonschema>=3.0->altair<6.0,>=4.2.0->gradio) (21.4.0)\n",
      "Requirement already satisfied: pyrsistent!=0.17.0,!=0.17.1,!=0.17.2,>=0.14.0 in /Users/wangyuxuan/anaconda3/lib/python3.9/site-packages (from jsonschema>=3.0->altair<6.0,>=4.2.0->gradio) (0.18.0)\n",
      "Requirement already satisfied: six>=1.5 in /Users/wangyuxuan/anaconda3/lib/python3.9/site-packages (from python-dateutil>=2.7->matplotlib~=3.0->gradio) (1.16.0)\n",
      "Requirement already satisfied: markdown-it-py>=2.2.0 in /Users/wangyuxuan/anaconda3/lib/python3.9/site-packages (from rich<14.0.0,>=10.11.0->typer[all]<1.0,>=0.9->gradio) (3.0.0)\n",
      "Requirement already satisfied: pygments<3.0.0,>=2.13.0 in /Users/wangyuxuan/anaconda3/lib/python3.9/site-packages (from rich<14.0.0,>=10.11.0->typer[all]<1.0,>=0.9->gradio) (2.16.1)\n",
      "Requirement already satisfied: mdurl~=0.1 in /Users/wangyuxuan/anaconda3/lib/python3.9/site-packages (from markdown-it-py>=2.2.0->rich<14.0.0,>=10.11.0->typer[all]<1.0,>=0.9->gradio) (0.1.2)\r\n"
     ]
    }
   ],
   "source": [
    "!pip install gradio"
   ]
  },
  {
   "cell_type": "code",
   "execution_count": 112,
   "metadata": {
    "colab": {
     "base_uri": "https://localhost:8080/",
     "height": 567
    },
    "id": "Ylfr08rCUAO0",
    "outputId": "39c2654a-fca5-4017-e06e-b0a4b27ecf16"
   },
   "outputs": [
    {
     "name": "stdout",
     "output_type": "stream",
     "text": [
      "(Discussion Moderator): Go to Hospital to visit Phoebe\n",
      "\n",
      "\n",
      "Running on local URL:  http://127.0.0.1:7873\n",
      "Running on public URL: https://06f1f43a9b2c1ea0d6.gradio.live\n",
      "\n",
      "This share link expires in 72 hours. For free permanent hosting and GPU upgrades, run `gradio deploy` from Terminal to deploy to Spaces (https://huggingface.co/spaces)\n"
     ]
    },
    {
     "data": {
      "text/html": [
       "<div><iframe src=\"https://06f1f43a9b2c1ea0d6.gradio.live\" width=\"100%\" height=\"500\" allow=\"autoplay; camera; microphone; clipboard-read; clipboard-write;\" frameborder=\"0\" allowfullscreen></iframe></div>"
      ],
      "text/plain": [
       "<IPython.core.display.HTML object>"
      ]
     },
     "metadata": {},
     "output_type": "display_data"
    },
    {
     "data": {
      "text/plain": []
     },
     "execution_count": 112,
     "metadata": {},
     "output_type": "execute_result"
    },
    {
     "name": "stdout",
     "output_type": "stream",
     "text": [
      "Bids:\n",
      "\tMonica Geller bid: 9\n",
      "\tRachel Green bid: 8\n",
      "\tRoss Geller bid: 9\n",
      "Selected: Monica Geller\n",
      "\n",
      "\n",
      "Bids:\n",
      "\tMonica Geller bid: 10\n",
      "\tRachel Green bid: 9\n",
      "\tRoss Geller bid: 8\n",
      "Selected: Monica Geller\n",
      "\n",
      "\n",
      "Bids:\n",
      "\tMonica Geller bid: 9\n",
      "\tRachel Green bid: 9\n",
      "\tRoss Geller bid: 9\n",
      "Selected: Rachel Green\n",
      "\n",
      "\n",
      "Bids:\n",
      "\tMonica Geller bid: 10\n",
      "\tRachel Green bid: 8\n",
      "\tRoss Geller bid: 8\n",
      "Selected: Monica Geller\n",
      "\n",
      "\n",
      "Bids:\n",
      "\tMonica Geller bid: 9\n",
      "\tRachel Green bid: 8\n",
      "\tRoss Geller bid: 9\n",
      "Selected: Ross Geller\n",
      "\n",
      "\n"
     ]
    }
   ],
   "source": [
    "max_iters = 15\n",
    "n = 0\n",
    "\n",
    "simulator = DialogueSimulator(agents=characters, selection_function=select_next_speaker)\n",
    "simulator.reset()\n",
    "simulator.inject(\"Discussion Moderator\", specified_topic)\n",
    "print(f\"(Discussion Moderator): {specified_topic}\")\n",
    "print(\"\\n\")\n",
    "'''\n",
    "while n < max_iters:\n",
    "    name, message = simulator.step()\n",
    "    print(f\"({name}): {message}\")\n",
    "    print(\"\\n\")\n",
    "    n += 1\n",
    "'''\n",
    "import gradio as gr\n",
    "\n",
    "def get_new_message(chat_log):\n",
    "    name, message = simulator.step()\n",
    "\n",
    "    new_entry = f\"{(name)}: {message}\\n\\n-----------------------------------------------------------------------\\n\"\n",
    "    updated_chat_log = chat_log + new_entry\n",
    "    return updated_chat_log\n",
    "\n",
    "\n",
    "with gr.Blocks() as demo:\n",
    "    chat_log = gr.Textbox(interactive=False, lines=30, label=topic, value=\"\")\n",
    "\n",
    "    update_button = gr.Button(\"Get New Message\")\n",
    "\n",
    "    update_button.click(\n",
    "        get_new_message,\n",
    "        inputs=[chat_log],\n",
    "        outputs=[chat_log]\n",
    "    )\n",
    "\n",
    "demo.launch(share=True)\n"
   ]
  },
  {
   "cell_type": "code",
   "execution_count": null,
   "metadata": {},
   "outputs": [],
   "source": []
  }
 ],
 "metadata": {
  "colab": {
   "provenance": []
  },
  "kernelspec": {
   "display_name": "Python 3 (ipykernel)",
   "language": "python",
   "name": "python3"
  },
  "language_info": {
   "codemirror_mode": {
    "name": "ipython",
    "version": 3
   },
   "file_extension": ".py",
   "mimetype": "text/x-python",
   "name": "python",
   "nbconvert_exporter": "python",
   "pygments_lexer": "ipython3",
   "version": "3.9.13"
  }
 },
 "nbformat": 4,
 "nbformat_minor": 1
}
